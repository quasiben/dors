{
 "cells": [
  {
   "cell_type": "code",
   "execution_count": 1,
   "metadata": {},
   "outputs": [],
   "source": [
    "library(reticulate)\n",
    "use_condaenv(\"dors\")"
   ]
  },
  {
   "cell_type": "code",
   "execution_count": 2,
   "metadata": {},
   "outputs": [],
   "source": [
    "library(DORS);"
   ]
  },
  {
   "cell_type": "code",
   "execution_count": 3,
   "metadata": {},
   "outputs": [],
   "source": [
    "db <- dbConnect(DORS::DORS(), CTX = 'distributed')"
   ]
  },
  {
   "cell_type": "code",
   "execution_count": 4,
   "metadata": {},
   "outputs": [
    {
     "data": {
      "text/plain": [
       "<Client: 'tcp://127.0.0.1:49886' processes=4 threads=12, memory=17.18 GB>"
      ]
     },
     "metadata": {},
     "output_type": "display_data"
    }
   ],
   "source": [
    "db$dors_client"
   ]
  },
  {
   "cell_type": "code",
   "execution_count": 5,
   "metadata": {},
   "outputs": [
    {
     "data": {
      "text/plain": [
       "http://127.0.0.1:8787/status"
      ]
     },
     "metadata": {},
     "output_type": "display_data"
    }
   ],
   "source": [
    "db$dors_client$dashboard_link"
   ]
  },
  {
   "cell_type": "code",
   "execution_count": 6,
   "metadata": {},
   "outputs": [],
   "source": [
    "dbWriteTable(db, \"mtcars\", mtcars)"
   ]
  },
  {
   "cell_type": "code",
   "execution_count": 7,
   "metadata": {},
   "outputs": [
    {
     "data": {
      "text/html": [
       "'mtcars'"
      ],
      "text/latex": [
       "'mtcars'"
      ],
      "text/markdown": [
       "'mtcars'"
      ],
      "text/plain": [
       "[1] \"mtcars\""
      ]
     },
     "metadata": {},
     "output_type": "display_data"
    }
   ],
   "source": [
    "names(db$tables)"
   ]
  },
  {
   "cell_type": "code",
   "execution_count": 8,
   "metadata": {},
   "outputs": [],
   "source": [
    "res <- dbGetQuery(db, \"SELECT * FROM mtcars WHERE cyl > 4\")"
   ]
  },
  {
   "cell_type": "code",
   "execution_count": 9,
   "metadata": {},
   "outputs": [
    {
     "data": {
      "text/html": [
       "<table>\n",
       "<caption>A data.frame: 6 × 11</caption>\n",
       "<thead>\n",
       "\t<tr><th></th><th scope=col>mpg</th><th scope=col>cyl</th><th scope=col>disp</th><th scope=col>hp</th><th scope=col>drat</th><th scope=col>wt</th><th scope=col>qsec</th><th scope=col>vs</th><th scope=col>am</th><th scope=col>gear</th><th scope=col>carb</th></tr>\n",
       "\t<tr><th></th><th scope=col>&lt;dbl&gt;</th><th scope=col>&lt;dbl&gt;</th><th scope=col>&lt;dbl&gt;</th><th scope=col>&lt;dbl&gt;</th><th scope=col>&lt;dbl&gt;</th><th scope=col>&lt;dbl&gt;</th><th scope=col>&lt;dbl&gt;</th><th scope=col>&lt;dbl&gt;</th><th scope=col>&lt;dbl&gt;</th><th scope=col>&lt;dbl&gt;</th><th scope=col>&lt;dbl&gt;</th></tr>\n",
       "</thead>\n",
       "<tbody>\n",
       "\t<tr><th scope=row>AMC Javelin</th><td>15.2</td><td>8</td><td>304</td><td>150</td><td>3.15</td><td>3.435</td><td>17.30</td><td>0</td><td>0</td><td>3</td><td>2</td></tr>\n",
       "\t<tr><th scope=row>Cadillac Fleetwood</th><td>10.4</td><td>8</td><td>472</td><td>205</td><td>2.93</td><td>5.250</td><td>17.98</td><td>0</td><td>0</td><td>3</td><td>4</td></tr>\n",
       "\t<tr><th scope=row>Camaro Z28</th><td>13.3</td><td>8</td><td>350</td><td>245</td><td>3.73</td><td>3.840</td><td>15.41</td><td>0</td><td>0</td><td>3</td><td>4</td></tr>\n",
       "\t<tr><th scope=row>Chrysler Imperial</th><td>14.7</td><td>8</td><td>440</td><td>230</td><td>3.23</td><td>5.345</td><td>17.42</td><td>0</td><td>0</td><td>3</td><td>4</td></tr>\n",
       "\t<tr><th scope=row>Dodge Challenger</th><td>15.5</td><td>8</td><td>318</td><td>150</td><td>2.76</td><td>3.520</td><td>16.87</td><td>0</td><td>0</td><td>3</td><td>2</td></tr>\n",
       "\t<tr><th scope=row>Duster 360</th><td>14.3</td><td>8</td><td>360</td><td>245</td><td>3.21</td><td>3.570</td><td>15.84</td><td>0</td><td>0</td><td>3</td><td>4</td></tr>\n",
       "</tbody>\n",
       "</table>\n"
      ],
      "text/latex": [
       "A data.frame: 6 × 11\n",
       "\\begin{tabular}{r|lllllllllll}\n",
       "  & mpg & cyl & disp & hp & drat & wt & qsec & vs & am & gear & carb\\\\\n",
       "  & <dbl> & <dbl> & <dbl> & <dbl> & <dbl> & <dbl> & <dbl> & <dbl> & <dbl> & <dbl> & <dbl>\\\\\n",
       "\\hline\n",
       "\tAMC Javelin & 15.2 & 8 & 304 & 150 & 3.15 & 3.435 & 17.30 & 0 & 0 & 3 & 2\\\\\n",
       "\tCadillac Fleetwood & 10.4 & 8 & 472 & 205 & 2.93 & 5.250 & 17.98 & 0 & 0 & 3 & 4\\\\\n",
       "\tCamaro Z28 & 13.3 & 8 & 350 & 245 & 3.73 & 3.840 & 15.41 & 0 & 0 & 3 & 4\\\\\n",
       "\tChrysler Imperial & 14.7 & 8 & 440 & 230 & 3.23 & 5.345 & 17.42 & 0 & 0 & 3 & 4\\\\\n",
       "\tDodge Challenger & 15.5 & 8 & 318 & 150 & 2.76 & 3.520 & 16.87 & 0 & 0 & 3 & 2\\\\\n",
       "\tDuster 360 & 14.3 & 8 & 360 & 245 & 3.21 & 3.570 & 15.84 & 0 & 0 & 3 & 4\\\\\n",
       "\\end{tabular}\n"
      ],
      "text/markdown": [
       "\n",
       "A data.frame: 6 × 11\n",
       "\n",
       "| <!--/--> | mpg &lt;dbl&gt; | cyl &lt;dbl&gt; | disp &lt;dbl&gt; | hp &lt;dbl&gt; | drat &lt;dbl&gt; | wt &lt;dbl&gt; | qsec &lt;dbl&gt; | vs &lt;dbl&gt; | am &lt;dbl&gt; | gear &lt;dbl&gt; | carb &lt;dbl&gt; |\n",
       "|---|---|---|---|---|---|---|---|---|---|---|---|\n",
       "| AMC Javelin | 15.2 | 8 | 304 | 150 | 3.15 | 3.435 | 17.30 | 0 | 0 | 3 | 2 |\n",
       "| Cadillac Fleetwood | 10.4 | 8 | 472 | 205 | 2.93 | 5.250 | 17.98 | 0 | 0 | 3 | 4 |\n",
       "| Camaro Z28 | 13.3 | 8 | 350 | 245 | 3.73 | 3.840 | 15.41 | 0 | 0 | 3 | 4 |\n",
       "| Chrysler Imperial | 14.7 | 8 | 440 | 230 | 3.23 | 5.345 | 17.42 | 0 | 0 | 3 | 4 |\n",
       "| Dodge Challenger | 15.5 | 8 | 318 | 150 | 2.76 | 3.520 | 16.87 | 0 | 0 | 3 | 2 |\n",
       "| Duster 360 | 14.3 | 8 | 360 | 245 | 3.21 | 3.570 | 15.84 | 0 | 0 | 3 | 4 |\n",
       "\n"
      ],
      "text/plain": [
       "                   mpg  cyl disp hp  drat wt    qsec  vs am gear carb\n",
       "AMC Javelin        15.2 8   304  150 3.15 3.435 17.30 0  0  3    2   \n",
       "Cadillac Fleetwood 10.4 8   472  205 2.93 5.250 17.98 0  0  3    4   \n",
       "Camaro Z28         13.3 8   350  245 3.73 3.840 15.41 0  0  3    4   \n",
       "Chrysler Imperial  14.7 8   440  230 3.23 5.345 17.42 0  0  3    4   \n",
       "Dodge Challenger   15.5 8   318  150 2.76 3.520 16.87 0  0  3    2   \n",
       "Duster 360         14.3 8   360  245 3.21 3.570 15.84 0  0  3    4   "
      ]
     },
     "metadata": {},
     "output_type": "display_data"
    }
   ],
   "source": [
    "head(res)"
   ]
  },
  {
   "cell_type": "code",
   "execution_count": 10,
   "metadata": {},
   "outputs": [],
   "source": [
    "dbWriteTable(db, \"taxi\", \"./sample_taxi.parquet\")"
   ]
  },
  {
   "cell_type": "code",
   "execution_count": 11,
   "metadata": {},
   "outputs": [
    {
     "data": {
      "text/html": [
       "<table>\n",
       "<caption>A data.frame: 1 × 1</caption>\n",
       "<thead>\n",
       "\t<tr><th scope=col>COUNT(*)</th></tr>\n",
       "\t<tr><th scope=col>&lt;dbl&gt;</th></tr>\n",
       "</thead>\n",
       "<tbody>\n",
       "\t<tr><td>743660</td></tr>\n",
       "</tbody>\n",
       "</table>\n"
      ],
      "text/latex": [
       "A data.frame: 1 × 1\n",
       "\\begin{tabular}{l}\n",
       " COUNT(*)\\\\\n",
       " <dbl>\\\\\n",
       "\\hline\n",
       "\t 743660\\\\\n",
       "\\end{tabular}\n"
      ],
      "text/markdown": [
       "\n",
       "A data.frame: 1 × 1\n",
       "\n",
       "| COUNT(*) &lt;dbl&gt; |\n",
       "|---|\n",
       "| 743660 |\n",
       "\n"
      ],
      "text/plain": [
       "  COUNT(*)\n",
       "1 743660  "
      ]
     },
     "metadata": {},
     "output_type": "display_data"
    }
   ],
   "source": [
    "dbGetQuery(db, \"select count(*) from taxi\")"
   ]
  },
  {
   "cell_type": "code",
   "execution_count": 13,
   "metadata": {},
   "outputs": [],
   "source": [
    "res <- dbGetQuery(db, \"select avg(trip_distance), passenger_count \n",
    "                       from taxi \n",
    "                       group by passenger_count\")"
   ]
  },
  {
   "cell_type": "code",
   "execution_count": 14,
   "metadata": {},
   "outputs": [
    {
     "data": {
      "text/html": [
       "<table>\n",
       "<caption>A data.frame: 8 × 2</caption>\n",
       "<thead>\n",
       "\t<tr><th scope=col>AVG(\"taxi\".\"trip_distance\")</th><th scope=col>passenger_count</th></tr>\n",
       "\t<tr><th scope=col>&lt;dbl&gt;</th><th scope=col>&lt;dbl&gt;</th></tr>\n",
       "</thead>\n",
       "<tbody>\n",
       "\t<tr><td>1.845263</td><td>0</td></tr>\n",
       "\t<tr><td>2.484745</td><td>1</td></tr>\n",
       "\t<tr><td>2.344380</td><td>2</td></tr>\n",
       "\t<tr><td>2.313976</td><td>3</td></tr>\n",
       "\t<tr><td>2.346265</td><td>4</td></tr>\n",
       "\t<tr><td>2.325405</td><td>5</td></tr>\n",
       "\t<tr><td>2.273989</td><td>6</td></tr>\n",
       "\t<tr><td>0.000000</td><td>9</td></tr>\n",
       "</tbody>\n",
       "</table>\n"
      ],
      "text/latex": [
       "A data.frame: 8 × 2\n",
       "\\begin{tabular}{ll}\n",
       " AVG(\"taxi\".\"trip\\_distance\") & passenger\\_count\\\\\n",
       " <dbl> & <dbl>\\\\\n",
       "\\hline\n",
       "\t 1.845263 & 0\\\\\n",
       "\t 2.484745 & 1\\\\\n",
       "\t 2.344380 & 2\\\\\n",
       "\t 2.313976 & 3\\\\\n",
       "\t 2.346265 & 4\\\\\n",
       "\t 2.325405 & 5\\\\\n",
       "\t 2.273989 & 6\\\\\n",
       "\t 0.000000 & 9\\\\\n",
       "\\end{tabular}\n"
      ],
      "text/markdown": [
       "\n",
       "A data.frame: 8 × 2\n",
       "\n",
       "| AVG(\"taxi\".\"trip_distance\") &lt;dbl&gt; | passenger_count &lt;dbl&gt; |\n",
       "|---|---|\n",
       "| 1.845263 | 0 |\n",
       "| 2.484745 | 1 |\n",
       "| 2.344380 | 2 |\n",
       "| 2.313976 | 3 |\n",
       "| 2.346265 | 4 |\n",
       "| 2.325405 | 5 |\n",
       "| 2.273989 | 6 |\n",
       "| 0.000000 | 9 |\n",
       "\n"
      ],
      "text/plain": [
       "  AVG(\"taxi\".\"trip_distance\") passenger_count\n",
       "1 1.845263                    0              \n",
       "2 2.484745                    1              \n",
       "3 2.344380                    2              \n",
       "4 2.313976                    3              \n",
       "5 2.346265                    4              \n",
       "6 2.325405                    5              \n",
       "7 2.273989                    6              \n",
       "8 0.000000                    9              "
      ]
     },
     "metadata": {},
     "output_type": "display_data"
    }
   ],
   "source": [
    "res"
   ]
  },
  {
   "cell_type": "code",
   "execution_count": 15,
   "metadata": {},
   "outputs": [
    {
     "data": {
      "text/plain": [
       "{'mtcars': <dask_sql.datacontainer.DataContainer>, 'taxi': <dask_sql.datacontainer.DataContainer>, 'ts': <dask_sql.datacontainer.DataContainer>, 'ts2': <dask_sql.datacontainer.DataContainer>}"
      ]
     },
     "metadata": {},
     "output_type": "display_data"
    }
   ],
   "source": [
    "create_timeseries(db)\n",
    "create_timeseries(db, 'ts2')\n",
    "db$tables"
   ]
  },
  {
   "cell_type": "code",
   "execution_count": 16,
   "metadata": {},
   "outputs": [
    {
     "data": {
      "text/html": [
       "<table>\n",
       "<caption>A data.frame: 5 × 4</caption>\n",
       "<thead>\n",
       "\t<tr><th></th><th scope=col>id</th><th scope=col>name</th><th scope=col>x</th><th scope=col>y</th></tr>\n",
       "\t<tr><th></th><th scope=col>&lt;dbl&gt;</th><th scope=col>&lt;chr&gt;</th><th scope=col>&lt;dbl&gt;</th><th scope=col>&lt;dbl&gt;</th></tr>\n",
       "</thead>\n",
       "<tbody>\n",
       "\t<tr><th scope=row>2000-01-01 00:00:00</th><td>1009</td><td>Ray    </td><td> 0.05501582</td><td>-0.08005533</td></tr>\n",
       "\t<tr><th scope=row>2000-01-01 00:10:00</th><td> 966</td><td>Sarah  </td><td> 0.91420733</td><td> 0.27484151</td></tr>\n",
       "\t<tr><th scope=row>2000-01-01 00:20:00</th><td>1014</td><td>Ursula </td><td>-0.09410239</td><td> 0.55545577</td></tr>\n",
       "\t<tr><th scope=row>2000-01-01 00:30:00</th><td> 975</td><td>Zelda  </td><td> 0.72316210</td><td> 0.24852102</td></tr>\n",
       "\t<tr><th scope=row>2000-01-01 00:40:00</th><td>1012</td><td>Charlie</td><td>-0.37246921</td><td> 0.28476695</td></tr>\n",
       "</tbody>\n",
       "</table>\n"
      ],
      "text/latex": [
       "A data.frame: 5 × 4\n",
       "\\begin{tabular}{r|llll}\n",
       "  & id & name & x & y\\\\\n",
       "  & <dbl> & <chr> & <dbl> & <dbl>\\\\\n",
       "\\hline\n",
       "\t2000-01-01 00:00:00 & 1009 & Ray     &  0.05501582 & -0.08005533\\\\\n",
       "\t2000-01-01 00:10:00 &  966 & Sarah   &  0.91420733 &  0.27484151\\\\\n",
       "\t2000-01-01 00:20:00 & 1014 & Ursula  & -0.09410239 &  0.55545577\\\\\n",
       "\t2000-01-01 00:30:00 &  975 & Zelda   &  0.72316210 &  0.24852102\\\\\n",
       "\t2000-01-01 00:40:00 & 1012 & Charlie & -0.37246921 &  0.28476695\\\\\n",
       "\\end{tabular}\n"
      ],
      "text/markdown": [
       "\n",
       "A data.frame: 5 × 4\n",
       "\n",
       "| <!--/--> | id &lt;dbl&gt; | name &lt;chr&gt; | x &lt;dbl&gt; | y &lt;dbl&gt; |\n",
       "|---|---|---|---|---|\n",
       "| 2000-01-01 00:00:00 | 1009 | Ray     |  0.05501582 | -0.08005533 |\n",
       "| 2000-01-01 00:10:00 |  966 | Sarah   |  0.91420733 |  0.27484151 |\n",
       "| 2000-01-01 00:20:00 | 1014 | Ursula  | -0.09410239 |  0.55545577 |\n",
       "| 2000-01-01 00:30:00 |  975 | Zelda   |  0.72316210 |  0.24852102 |\n",
       "| 2000-01-01 00:40:00 | 1012 | Charlie | -0.37246921 |  0.28476695 |\n",
       "\n"
      ],
      "text/plain": [
       "                    id   name    x           y          \n",
       "2000-01-01 00:00:00 1009 Ray      0.05501582 -0.08005533\n",
       "2000-01-01 00:10:00  966 Sarah    0.91420733  0.27484151\n",
       "2000-01-01 00:20:00 1014 Ursula  -0.09410239  0.55545577\n",
       "2000-01-01 00:30:00  975 Zelda    0.72316210  0.24852102\n",
       "2000-01-01 00:40:00 1012 Charlie -0.37246921  0.28476695"
      ]
     },
     "metadata": {},
     "output_type": "display_data"
    }
   ],
   "source": [
    "res <- dbGetQuery(db, \"select * from ts limit 5\")\n",
    "res"
   ]
  },
  {
   "cell_type": "code",
   "execution_count": 17,
   "metadata": {},
   "outputs": [],
   "source": [
    "#df.groupby('name').x.std()\n",
    "res <- dbGetQuery(db, \"select avg(x),name \n",
    "                       from ts \n",
    "                       group by name\")"
   ]
  },
  {
   "cell_type": "code",
   "execution_count": 18,
   "metadata": {},
   "outputs": [
    {
     "name": "stderr",
     "output_type": "stream",
     "text": [
      "Warning message in py_to_r.pandas.core.frame.DataFrame(dfFetch):\n",
      "“index contains duplicated values: row names not set”\n"
     ]
    }
   ],
   "source": [
    "# df.join(df2, on=['id'])\n",
    "res <- dbGetQuery(db, \"select lhs.id, lhs.name, rhs.name \n",
    "                       from ts as lhs\n",
    "                       INNER JOIN ts2 as rhs\n",
    "                       ON\n",
    "                       lhs.id = rhs.id\")"
   ]
  },
  {
   "cell_type": "code",
   "execution_count": 22,
   "metadata": {},
   "outputs": [
    {
     "data": {
      "text/html": [
       "<table>\n",
       "<caption>A data.frame: 6 × 3</caption>\n",
       "<thead>\n",
       "\t<tr><th></th><th scope=col>id</th><th scope=col>name</th><th scope=col>name0</th></tr>\n",
       "\t<tr><th></th><th scope=col>&lt;dbl&gt;</th><th scope=col>&lt;chr&gt;</th><th scope=col>&lt;chr&gt;</th></tr>\n",
       "</thead>\n",
       "<tbody>\n",
       "\t<tr><th scope=row>1</th><td>1044</td><td>Oliver</td><td>Dan   </td></tr>\n",
       "\t<tr><th scope=row>2</th><td>1044</td><td>Oliver</td><td>Zelda </td></tr>\n",
       "\t<tr><th scope=row>3</th><td>1044</td><td>Oliver</td><td>George</td></tr>\n",
       "\t<tr><th scope=row>4</th><td>1044</td><td>Oliver</td><td>Ray   </td></tr>\n",
       "\t<tr><th scope=row>5</th><td>1044</td><td>Oliver</td><td>Ursula</td></tr>\n",
       "\t<tr><th scope=row>6</th><td>1044</td><td>Oliver</td><td>Bob   </td></tr>\n",
       "</tbody>\n",
       "</table>\n"
      ],
      "text/latex": [
       "A data.frame: 6 × 3\n",
       "\\begin{tabular}{r|lll}\n",
       "  & id & name & name0\\\\\n",
       "  & <dbl> & <chr> & <chr>\\\\\n",
       "\\hline\n",
       "\t1 & 1044 & Oliver & Dan   \\\\\n",
       "\t2 & 1044 & Oliver & Zelda \\\\\n",
       "\t3 & 1044 & Oliver & George\\\\\n",
       "\t4 & 1044 & Oliver & Ray   \\\\\n",
       "\t5 & 1044 & Oliver & Ursula\\\\\n",
       "\t6 & 1044 & Oliver & Bob   \\\\\n",
       "\\end{tabular}\n"
      ],
      "text/markdown": [
       "\n",
       "A data.frame: 6 × 3\n",
       "\n",
       "| <!--/--> | id &lt;dbl&gt; | name &lt;chr&gt; | name0 &lt;chr&gt; |\n",
       "|---|---|---|---|\n",
       "| 1 | 1044 | Oliver | Dan    |\n",
       "| 2 | 1044 | Oliver | Zelda  |\n",
       "| 3 | 1044 | Oliver | George |\n",
       "| 4 | 1044 | Oliver | Ray    |\n",
       "| 5 | 1044 | Oliver | Ursula |\n",
       "| 6 | 1044 | Oliver | Bob    |\n",
       "\n"
      ],
      "text/plain": [
       "  id   name   name0 \n",
       "1 1044 Oliver Dan   \n",
       "2 1044 Oliver Zelda \n",
       "3 1044 Oliver George\n",
       "4 1044 Oliver Ray   \n",
       "5 1044 Oliver Ursula\n",
       "6 1044 Oliver Bob   "
      ]
     },
     "metadata": {},
     "output_type": "display_data"
    }
   ],
   "source": [
    "head(res)"
   ]
  },
  {
   "cell_type": "code",
   "execution_count": null,
   "metadata": {},
   "outputs": [],
   "source": []
  }
 ],
 "metadata": {
  "kernelspec": {
   "display_name": "R [conda env:dors]",
   "language": "R",
   "name": "conda-env-dors-r"
  },
  "language_info": {
   "codemirror_mode": "r",
   "file_extension": ".r",
   "mimetype": "text/x-r-source",
   "name": "R",
   "pygments_lexer": "r",
   "version": "4.0.3"
  }
 },
 "nbformat": 4,
 "nbformat_minor": 4
}
